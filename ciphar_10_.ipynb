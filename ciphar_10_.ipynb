version https://git-lfs.github.com/spec/v1
oid sha256:fc87c95aa86c26414a874d95f51d8cc57d2524dd0c4088305b922502f0ec059d
size 300807
